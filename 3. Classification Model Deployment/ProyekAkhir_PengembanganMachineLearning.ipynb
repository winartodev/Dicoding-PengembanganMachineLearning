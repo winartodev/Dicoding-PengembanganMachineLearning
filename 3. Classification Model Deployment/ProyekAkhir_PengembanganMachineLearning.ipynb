{
  "nbformat": 4,
  "nbformat_minor": 0,
  "metadata": {
    "colab": {
      "name": "ProyekAkhir-PengembanganMachineLearning.ipynb",
      "provenance": [],
      "collapsed_sections": []
    },
    "kernelspec": {
      "name": "python3",
      "display_name": "Python 3"
    },
    "language_info": {
      "name": "python"
    }
  },
  "cells": [
    {
      "cell_type": "code",
      "metadata": {
        "colab": {
          "base_uri": "https://localhost:8080/"
        },
        "id": "XhzAF7iX20is",
        "outputId": "2cbca5bb-3aa8-44b4-be55-57e5bbda5de9"
      },
      "source": [
        "!wget --no-check-certificate \\\n",
        "  https://dicodingacademy.blob.core.windows.net/picodiploma/ml_pemula_academy/rockpaperscissors.zip \\\n",
        "  -O /tmp/rockpaperscissors.zip"
      ],
      "execution_count": 1,
      "outputs": [
        {
          "output_type": "stream",
          "text": [
            "--2021-06-23 12:35:25--  https://dicodingacademy.blob.core.windows.net/picodiploma/ml_pemula_academy/rockpaperscissors.zip\n",
            "Resolving dicodingacademy.blob.core.windows.net (dicodingacademy.blob.core.windows.net)... 52.239.197.36\n",
            "Connecting to dicodingacademy.blob.core.windows.net (dicodingacademy.blob.core.windows.net)|52.239.197.36|:443... connected.\n",
            "HTTP request sent, awaiting response... 200 OK\n",
            "Length: 322873683 (308M) [application/zip]\n",
            "Saving to: ‘/tmp/rockpaperscissors.zip’\n",
            "\n",
            "/tmp/rockpapersciss 100%[===================>] 307.92M  2.98MB/s    in 2m 1s   \n",
            "\n",
            "2021-06-23 12:37:27 (2.54 MB/s) - ‘/tmp/rockpaperscissors.zip’ saved [322873683/322873683]\n",
            "\n"
          ],
          "name": "stdout"
        }
      ]
    },
    {
      "cell_type": "code",
      "metadata": {
        "id": "pEWc_4tuixO9"
      },
      "source": [
        "import zipfile, os\n",
        "import numpy as np \n",
        "import matplotlib.pyplot as plt\n",
        "\n",
        "import tensorflow as tf\n",
        "from tensorflow.keras.preprocessing.image import ImageDataGenerator"
      ],
      "execution_count": 2,
      "outputs": []
    },
    {
      "cell_type": "code",
      "metadata": {
        "id": "aNbvh35s9Nbi"
      },
      "source": [
        "# extract file \n",
        "zip_path = '/tmp/rockpaperscissors.zip'\n",
        "zip_file = zipfile.ZipFile(zip_path, 'r')\n",
        "zip_file.extractall('/tmp')\n",
        "zip_file.close()"
      ],
      "execution_count": 3,
      "outputs": []
    },
    {
      "cell_type": "code",
      "metadata": {
        "id": "UnZWDEqLCaZs"
      },
      "source": [
        "class MyCallback(tf.keras.callbacks.Callback):\n",
        "  def on_epoch_end(self, epoch, logs={}):\n",
        "    if (logs.get('accuracy') > 0.95):\n",
        "      keys = list(logs.keys())\n",
        "      print(\"Start epoch {} of training; got log keys: {}\".format(epoch, keys))\n",
        "      self.model.stop_training = True"
      ],
      "execution_count": 4,
      "outputs": []
    },
    {
      "cell_type": "code",
      "metadata": {
        "id": "jQCuB2Rh99GA"
      },
      "source": [
        "train_datagen = ImageDataGenerator(rescale=1./255,\n",
        "                                   rotation_range=20,\n",
        "                                   horizontal_flip=True,\n",
        "                                   shear_range=0.2,\n",
        "                                   fill_mode='wrap',\n",
        "                                   validation_split=0.4\n",
        "                                   )"
      ],
      "execution_count": 5,
      "outputs": []
    },
    {
      "cell_type": "code",
      "metadata": {
        "colab": {
          "base_uri": "https://localhost:8080/"
        },
        "id": "AFI6p9pqCSVl",
        "outputId": "afe831c8-fa30-476c-f1db-f87068e038a0"
      },
      "source": [
        "train_generator = train_datagen.flow_from_directory(\n",
        "    '/tmp/rockpaperscissors/rps-cv-images',\n",
        "    target_size=(150, 150), \n",
        "    batch_size=32,\n",
        "    shuffle=True, \n",
        "    class_mode='categorical',\n",
        "    subset='training', \n",
        ")\n",
        "\n",
        "validation_generator = train_datagen.flow_from_directory(\n",
        "    '/tmp/rockpaperscissors/rps-cv-images',\n",
        "    target_size=(150, 150),\n",
        "    batch_size=32,\n",
        "    shuffle=True, \n",
        "    class_mode='categorical',\n",
        "    subset='validation' \n",
        ")"
      ],
      "execution_count": 6,
      "outputs": [
        {
          "output_type": "stream",
          "text": [
            "Found 1314 images belonging to 3 classes.\n",
            "Found 874 images belonging to 3 classes.\n"
          ],
          "name": "stdout"
        }
      ]
    },
    {
      "cell_type": "code",
      "metadata": {
        "id": "gvld6bj2CX6x"
      },
      "source": [
        "model = tf.keras.models.Sequential([\n",
        "    tf.keras.layers.Conv2D(32, (3, 3), activation='relu', input_shape=(150, 150, 3)),\n",
        "    tf.keras.layers.MaxPooling2D(2, 2),\n",
        "    tf.keras.layers.Conv2D(64, (3, 3), activation='relu'),\n",
        "    tf.keras.layers.MaxPooling2D(2, 2),\n",
        "    tf.keras.layers.Conv2D(128, (3, 3), activation='relu'),\n",
        "    tf.keras.layers.MaxPooling2D(2, 2),\n",
        "    tf.keras.layers.Conv2D(128, (3, 3), activation='relu'),\n",
        "    tf.keras.layers.MaxPooling2D(2, 2),\n",
        "    tf.keras.layers.Flatten(),\n",
        "    tf.keras.layers.Dense(512, activation='relu'),\n",
        "    tf.keras.layers.Dense(3, activation='softmax')\n",
        "])"
      ],
      "execution_count": 7,
      "outputs": []
    },
    {
      "cell_type": "code",
      "metadata": {
        "id": "439juccWDDMQ"
      },
      "source": [
        "model.compile(loss='categorical_crossentropy',\n",
        "              optimizer=tf.optimizers.Adam(), \n",
        "              metrics=['accuracy'])"
      ],
      "execution_count": 8,
      "outputs": []
    },
    {
      "cell_type": "code",
      "metadata": {
        "colab": {
          "base_uri": "https://localhost:8080/"
        },
        "id": "0oyaPPsvDIJB",
        "outputId": "f1c6324b-59d3-4467-f0d2-c8a8b5fdf42d"
      },
      "source": [
        "callback = MyCallback()\n",
        "\n",
        "history = model.fit(train_generator,\n",
        "          steps_per_epoch=25,\n",
        "          epochs=20,\n",
        "          validation_data = validation_generator,\n",
        "          validation_steps=5,\n",
        "          verbose=2,\n",
        "          callbacks=[callback])"
      ],
      "execution_count": 9,
      "outputs": [
        {
          "output_type": "stream",
          "text": [
            "Epoch 1/20\n",
            "25/25 - 45s - loss: 0.9769 - accuracy: 0.5288 - val_loss: 0.5906 - val_accuracy: 0.7812\n",
            "Epoch 2/20\n",
            "25/25 - 42s - loss: 0.5687 - accuracy: 0.7896 - val_loss: 0.2713 - val_accuracy: 0.8875\n",
            "Epoch 3/20\n",
            "25/25 - 43s - loss: 0.2743 - accuracy: 0.8963 - val_loss: 0.3019 - val_accuracy: 0.8750\n",
            "Epoch 4/20\n",
            "25/25 - 43s - loss: 0.2739 - accuracy: 0.9150 - val_loss: 0.1874 - val_accuracy: 0.9500\n",
            "Epoch 5/20\n",
            "25/25 - 43s - loss: 0.1980 - accuracy: 0.9325 - val_loss: 0.2560 - val_accuracy: 0.9375\n",
            "Epoch 6/20\n",
            "25/25 - 41s - loss: 0.1871 - accuracy: 0.9312 - val_loss: 0.2325 - val_accuracy: 0.9062\n",
            "Epoch 7/20\n",
            "25/25 - 43s - loss: 0.1506 - accuracy: 0.9513 - val_loss: 0.0991 - val_accuracy: 0.9688\n",
            "Start epoch 6 of training; got log keys: ['loss', 'accuracy', 'val_loss', 'val_accuracy']\n"
          ],
          "name": "stdout"
        }
      ]
    },
    {
      "cell_type": "code",
      "metadata": {
        "colab": {
          "base_uri": "https://localhost:8080/"
        },
        "id": "yz34kkul2wY6",
        "outputId": "80339e93-36d5-4e95-e0c9-9ff901112a75"
      },
      "source": [
        "evaluate_score = model.evaluate(validation_generator, steps=20)\n",
        "print('Loss Score', evaluate_score[0])\n",
        "print('Accuracy Score', evaluate_score[1])"
      ],
      "execution_count": 10,
      "outputs": [
        {
          "output_type": "stream",
          "text": [
            "20/20 [==============================] - 12s 580ms/step - loss: 0.1579 - accuracy: 0.9469\n",
            "Loss Score 0.15794086456298828\n",
            "Accuracy Score 0.9468749761581421\n"
          ],
          "name": "stdout"
        }
      ]
    },
    {
      "cell_type": "code",
      "metadata": {
        "colab": {
          "base_uri": "https://localhost:8080/",
          "height": 295
        },
        "id": "nZhdFUnWDUVN",
        "outputId": "a70f29ed-f01a-4b70-d2f2-c572e6c05b9c"
      },
      "source": [
        "plt.plot(history.history['accuracy'])\n",
        "plt.plot(history.history['val_accuracy'])\n",
        "plt.title('Accuracy')\n",
        "plt.ylabel('accuracy')\n",
        "plt.xlabel('epoh')\n",
        "plt.show()"
      ],
      "execution_count": 11,
      "outputs": [
        {
          "output_type": "display_data",
          "data": {
            "image/png": "[encoded data removed]",
            "text/plain": [
              "<Figure size 432x288 with 1 Axes>"
            ]
          },
          "metadata": {
            "tags": [],
            "needs_background": "light"
          }
        }
      ]
    },
    {
      "cell_type": "code",
      "metadata": {
        "colab": {
          "base_uri": "https://localhost:8080/",
          "height": 295
        },
        "id": "LPWN3FKxH4ql",
        "outputId": "f8d02fbb-d217-4d19-8f9e-62575d048662"
      },
      "source": [
        "plt.plot(history.history['loss'])\n",
        "plt.plot(history.history['val_loss'])\n",
        "plt.title('Loss')\n",
        "plt.ylabel('loss')\n",
        "plt.xlabel('epoh')\n",
        "plt.show()"
      ],
      "execution_count": 12,
      "outputs": [
        {
          "output_type": "display_data",
          "data": {
            "image/png": "[encoded data removed]",
            "text/plain": [
              "<Figure size 432x288 with 1 Axes>"
            ]
          },
          "metadata": {
            "tags": [],
            "needs_background": "light"
          }
        }
      ]
    },
    {
      "cell_type": "code",
      "metadata": {
        "colab": {
          "base_uri": "https://localhost:8080/"
        },
        "id": "kmK0-A3AIMYc",
        "outputId": "02e284a8-6990-4c02-c4f3-372eb48d782e"
      },
      "source": [
        "#convert model \n",
        "converter = tf.lite.TFLiteConverter.from_keras_model(model)\n",
        "\n",
        "tflite_model = converter.convert()"
      ],
      "execution_count": 13,
      "outputs": [
        {
          "output_type": "stream",
          "text": [
            "INFO:tensorflow:Assets written to: /tmp/tmp5agldzs_/assets\n"
          ],
          "name": "stdout"
        }
      ]
    },
    {
      "cell_type": "code",
      "metadata": {
        "id": "FQm_80rzMXk2"
      },
      "source": [
        "with tf.io.gfile.GFile('model.tflite', 'wb') as f:\n",
        "  f.write(tflite_model)"
      ],
      "execution_count": 14,
      "outputs": []
    }
  ]
}