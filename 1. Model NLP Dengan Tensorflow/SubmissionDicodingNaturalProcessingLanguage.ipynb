{
  "nbformat": 4,
  "nbformat_minor": 0,
  "metadata": {
    "colab": {
      "name": "SubmissionDicodingNaturalProcessingLanguage",
      "provenance": [],
      "collapsed_sections": []
    },
    "kernelspec": {
      "display_name": "Python 3",
      "name": "python3"
    },
    "language_info": {
      "name": "python"
    }
  },
  "cells": [
    {
      "cell_type": "code",
      "metadata": {
        "colab": {
          "base_uri": "https://localhost:8080/"
        },
        "id": "HmNIFgVscZtd",
        "outputId": "384c7239-eae3-4b1d-a702-0617a1ce53c3"
      },
      "source": [
        "from google.colab import drive \n",
        "\n",
        "drive.mount('/content/drive')"
      ],
      "execution_count": 1,
      "outputs": [
        {
          "output_type": "stream",
          "text": [
            "Drive already mounted at /content/drive; to attempt to forcibly remount, call drive.mount(\"/content/drive\", force_remount=True).\n"
          ],
          "name": "stdout"
        }
      ]
    },
    {
      "cell_type": "code",
      "metadata": {
        "id": "Rek1enpEnyY0"
      },
      "source": [
        "import re \n",
        "import string\n",
        "\n",
        "import pandas as pd\n",
        "import matplotlib.pyplot as plt\n",
        "from bs4 import BeautifulSoup\n",
        "\n",
        "from sklearn.model_selection import train_test_split\n",
        "\n",
        "import tensorflow as tf\n",
        "from tensorflow.keras.preprocessing.text import Tokenizer\n",
        "from tensorflow.keras.preprocessing.sequence import pad_sequences"
      ],
      "execution_count": 2,
      "outputs": []
    },
    {
      "cell_type": "code",
      "metadata": {
        "colab": {
          "base_uri": "https://localhost:8080/",
          "height": 204
        },
        "id": "HlysehjvlJ7l",
        "outputId": "b9649637-3317-4b2e-e227-fc6679b8f0ee"
      },
      "source": [
        "path = '/content/drive/MyDrive/Colab Notebooks/IMDB_Dataset.csv'\n",
        "\n",
        "df = pd.read_csv(path)\n",
        "\n",
        "df.head()"
      ],
      "execution_count": 3,
      "outputs": [
        {
          "output_type": "execute_result",
          "data": {
            "text/html": [
              "<div>\n",
              "<style scoped>\n",
              "    .dataframe tbody tr th:only-of-type {\n",
              "        vertical-align: middle;\n",
              "    }\n",
              "\n",
              "    .dataframe tbody tr th {\n",
              "        vertical-align: top;\n",
              "    }\n",
              "\n",
              "    .dataframe thead th {\n",
              "        text-align: right;\n",
              "    }\n",
              "</style>\n",
              "<table border=\"1\" class=\"dataframe\">\n",
              "  <thead>\n",
              "    <tr style=\"text-align: right;\">\n",
              "      <th></th>\n",
              "      <th>review</th>\n",
              "      <th>sentiment</th>\n",
              "    </tr>\n",
              "  </thead>\n",
              "  <tbody>\n",
              "    <tr>\n",
              "      <th>0</th>\n",
              "      <td>One of the other reviewers has mentioned that ...</td>\n",
              "      <td>positive</td>\n",
              "    </tr>\n",
              "    <tr>\n",
              "      <th>1</th>\n",
              "      <td>A wonderful little production. &lt;br /&gt;&lt;br /&gt;The...</td>\n",
              "      <td>positive</td>\n",
              "    </tr>\n",
              "    <tr>\n",
              "      <th>2</th>\n",
              "      <td>I thought this was a wonderful way to spend ti...</td>\n",
              "      <td>positive</td>\n",
              "    </tr>\n",
              "    <tr>\n",
              "      <th>3</th>\n",
              "      <td>Basically there's a family where a little boy ...</td>\n",
              "      <td>negative</td>\n",
              "    </tr>\n",
              "    <tr>\n",
              "      <th>4</th>\n",
              "      <td>Petter Mattei's \"Love in the Time of Money\" is...</td>\n",
              "      <td>positive</td>\n",
              "    </tr>\n",
              "  </tbody>\n",
              "</table>\n",
              "</div>"
            ],
            "text/plain": [
              "                                              review sentiment\n",
              "0  One of the other reviewers has mentioned that ...  positive\n",
              "1  A wonderful little production. <br /><br />The...  positive\n",
              "2  I thought this was a wonderful way to spend ti...  positive\n",
              "3  Basically there's a family where a little boy ...  negative\n",
              "4  Petter Mattei's \"Love in the Time of Money\" is...  positive"
            ]
          },
          "metadata": {
            "tags": []
          },
          "execution_count": 3
        }
      ]
    },
    {
      "cell_type": "code",
      "metadata": {
        "colab": {
          "base_uri": "https://localhost:8080/",
          "height": 419
        },
        "id": "l6iux_cIojN2",
        "outputId": "a895a31b-e37a-4c0b-e180-65c8d1f1a66a"
      },
      "source": [
        "category = pd.get_dummies(df.sentiment)\n",
        "df = pd.concat([df, category], axis=1)\n",
        "df = df.drop(columns='sentiment')\n",
        "df"
      ],
      "execution_count": 4,
      "outputs": [
        {
          "output_type": "execute_result",
          "data": {
            "text/html": [
              "<div>\n",
              "<style scoped>\n",
              "    .dataframe tbody tr th:only-of-type {\n",
              "        vertical-align: middle;\n",
              "    }\n",
              "\n",
              "    .dataframe tbody tr th {\n",
              "        vertical-align: top;\n",
              "    }\n",
              "\n",
              "    .dataframe thead th {\n",
              "        text-align: right;\n",
              "    }\n",
              "</style>\n",
              "<table border=\"1\" class=\"dataframe\">\n",
              "  <thead>\n",
              "    <tr style=\"text-align: right;\">\n",
              "      <th></th>\n",
              "      <th>review</th>\n",
              "      <th>negative</th>\n",
              "      <th>positive</th>\n",
              "    </tr>\n",
              "  </thead>\n",
              "  <tbody>\n",
              "    <tr>\n",
              "      <th>0</th>\n",
              "      <td>One of the other reviewers has mentioned that ...</td>\n",
              "      <td>0</td>\n",
              "      <td>1</td>\n",
              "    </tr>\n",
              "    <tr>\n",
              "      <th>1</th>\n",
              "      <td>A wonderful little production. &lt;br /&gt;&lt;br /&gt;The...</td>\n",
              "      <td>0</td>\n",
              "      <td>1</td>\n",
              "    </tr>\n",
              "    <tr>\n",
              "      <th>2</th>\n",
              "      <td>I thought this was a wonderful way to spend ti...</td>\n",
              "      <td>0</td>\n",
              "      <td>1</td>\n",
              "    </tr>\n",
              "    <tr>\n",
              "      <th>3</th>\n",
              "      <td>Basically there's a family where a little boy ...</td>\n",
              "      <td>1</td>\n",
              "      <td>0</td>\n",
              "    </tr>\n",
              "    <tr>\n",
              "      <th>4</th>\n",
              "      <td>Petter Mattei's \"Love in the Time of Money\" is...</td>\n",
              "      <td>0</td>\n",
              "      <td>1</td>\n",
              "    </tr>\n",
              "    <tr>\n",
              "      <th>...</th>\n",
              "      <td>...</td>\n",
              "      <td>...</td>\n",
              "      <td>...</td>\n",
              "    </tr>\n",
              "    <tr>\n",
              "      <th>49995</th>\n",
              "      <td>I thought this movie did a down right good job...</td>\n",
              "      <td>0</td>\n",
              "      <td>1</td>\n",
              "    </tr>\n",
              "    <tr>\n",
              "      <th>49996</th>\n",
              "      <td>Bad plot, bad dialogue, bad acting, idiotic di...</td>\n",
              "      <td>1</td>\n",
              "      <td>0</td>\n",
              "    </tr>\n",
              "    <tr>\n",
              "      <th>49997</th>\n",
              "      <td>I am a Catholic taught in parochial elementary...</td>\n",
              "      <td>1</td>\n",
              "      <td>0</td>\n",
              "    </tr>\n",
              "    <tr>\n",
              "      <th>49998</th>\n",
              "      <td>I'm going to have to disagree with the previou...</td>\n",
              "      <td>1</td>\n",
              "      <td>0</td>\n",
              "    </tr>\n",
              "    <tr>\n",
              "      <th>49999</th>\n",
              "      <td>No one expects the Star Trek movies to be high...</td>\n",
              "      <td>1</td>\n",
              "      <td>0</td>\n",
              "    </tr>\n",
              "  </tbody>\n",
              "</table>\n",
              "<p>50000 rows × 3 columns</p>\n",
              "</div>"
            ],
            "text/plain": [
              "                                                  review  negative  positive\n",
              "0      One of the other reviewers has mentioned that ...         0         1\n",
              "1      A wonderful little production. <br /><br />The...         0         1\n",
              "2      I thought this was a wonderful way to spend ti...         0         1\n",
              "3      Basically there's a family where a little boy ...         1         0\n",
              "4      Petter Mattei's \"Love in the Time of Money\" is...         0         1\n",
              "...                                                  ...       ...       ...\n",
              "49995  I thought this movie did a down right good job...         0         1\n",
              "49996  Bad plot, bad dialogue, bad acting, idiotic di...         1         0\n",
              "49997  I am a Catholic taught in parochial elementary...         1         0\n",
              "49998  I'm going to have to disagree with the previou...         1         0\n",
              "49999  No one expects the Star Trek movies to be high...         1         0\n",
              "\n",
              "[50000 rows x 3 columns]"
            ]
          },
          "metadata": {
            "tags": []
          },
          "execution_count": 4
        }
      ]
    },
    {
      "cell_type": "code",
      "metadata": {
        "colab": {
          "base_uri": "https://localhost:8080/"
        },
        "id": "roEbBPW9BbYB",
        "outputId": "003a9d55-10ec-4c64-e9fb-99e80229efeb"
      },
      "source": [
        "df_new = df[:2500]\n",
        "\n",
        "df_new.shape"
      ],
      "execution_count": 5,
      "outputs": [
        {
          "output_type": "execute_result",
          "data": {
            "text/plain": [
              "(2500, 3)"
            ]
          },
          "metadata": {
            "tags": []
          },
          "execution_count": 5
        }
      ]
    },
    {
      "cell_type": "code",
      "metadata": {
        "id": "4U3hSOVNFBIm"
      },
      "source": [
        "class TextPreprocessing():\n",
        "  def case_folding(self, text):\n",
        "    text = BeautifulSoup(text, 'html.parser').get_text()\n",
        "    text = text.lower() # ubah text menjadi huruf kecil\n",
        "    text = text.strip() # menghapus wihte space pada awal kalimat\n",
        "    text = re.sub(r\"\\d+\", \"\", text) # menghapus angka yang tidak relevan\n",
        "    text = text.translate(str.maketrans(\"\",\"\",string.punctuation)) # menghapus tanda baca\n",
        "    return text\n",
        "\n",
        "class myCallback(tf.keras.callbacks.Callback):\n",
        "  def on_epoch_end (self, epoch, logs={}):\n",
        "    if (logs.get('accuracy') > 0.85 and logs.get('val_accuracy') > 0.85):\n",
        "      keys = list(logs.keys())\n",
        "      print(\"End epoch {} of training; got log keys: {}\".format(epoch, keys))\n",
        "      self.model.stop_training = True    \n",
        "\n",
        "my_callbacks = myCallback()\n",
        "text_preprocessing = TextPreprocessing()"
      ],
      "execution_count": 6,
      "outputs": []
    },
    {
      "cell_type": "code",
      "metadata": {
        "id": "YPclcek_n6cV",
        "colab": {
          "base_uri": "https://localhost:8080/"
        },
        "outputId": "fa6ce547-bbad-4d14-d31b-73052f92d61c"
      },
      "source": [
        "df_new['review'] = df_new['review'].apply(text_preprocessing.case_folding).values"
      ],
      "execution_count": 7,
      "outputs": [
        {
          "output_type": "stream",
          "text": [
            "/usr/local/lib/python3.7/dist-packages/ipykernel_launcher.py:1: SettingWithCopyWarning: \n",
            "A value is trying to be set on a copy of a slice from a DataFrame.\n",
            "Try using .loc[row_indexer,col_indexer] = value instead\n",
            "\n",
            "See the caveats in the documentation: https://pandas.pydata.org/pandas-docs/stable/user_guide/indexing.html#returning-a-view-versus-a-copy\n",
            "  \"\"\"Entry point for launching an IPython kernel.\n"
          ],
          "name": "stderr"
        }
      ]
    },
    {
      "cell_type": "code",
      "metadata": {
        "colab": {
          "base_uri": "https://localhost:8080/",
          "height": 419
        },
        "id": "PkaLEByIoFht",
        "outputId": "71dad87e-a9bf-4596-83c3-959359278f2e"
      },
      "source": [
        "df_new"
      ],
      "execution_count": 8,
      "outputs": [
        {
          "output_type": "execute_result",
          "data": {
            "text/html": [
              "<div>\n",
              "<style scoped>\n",
              "    .dataframe tbody tr th:only-of-type {\n",
              "        vertical-align: middle;\n",
              "    }\n",
              "\n",
              "    .dataframe tbody tr th {\n",
              "        vertical-align: top;\n",
              "    }\n",
              "\n",
              "    .dataframe thead th {\n",
              "        text-align: right;\n",
              "    }\n",
              "</style>\n",
              "<table border=\"1\" class=\"dataframe\">\n",
              "  <thead>\n",
              "    <tr style=\"text-align: right;\">\n",
              "      <th></th>\n",
              "      <th>review</th>\n",
              "      <th>negative</th>\n",
              "      <th>positive</th>\n",
              "    </tr>\n",
              "  </thead>\n",
              "  <tbody>\n",
              "    <tr>\n",
              "      <th>0</th>\n",
              "      <td>one of the other reviewers has mentioned that ...</td>\n",
              "      <td>0</td>\n",
              "      <td>1</td>\n",
              "    </tr>\n",
              "    <tr>\n",
              "      <th>1</th>\n",
              "      <td>a wonderful little production the filming tech...</td>\n",
              "      <td>0</td>\n",
              "      <td>1</td>\n",
              "    </tr>\n",
              "    <tr>\n",
              "      <th>2</th>\n",
              "      <td>i thought this was a wonderful way to spend ti...</td>\n",
              "      <td>0</td>\n",
              "      <td>1</td>\n",
              "    </tr>\n",
              "    <tr>\n",
              "      <th>3</th>\n",
              "      <td>basically theres a family where a little boy j...</td>\n",
              "      <td>1</td>\n",
              "      <td>0</td>\n",
              "    </tr>\n",
              "    <tr>\n",
              "      <th>4</th>\n",
              "      <td>petter matteis love in the time of money is a ...</td>\n",
              "      <td>0</td>\n",
              "      <td>1</td>\n",
              "    </tr>\n",
              "    <tr>\n",
              "      <th>...</th>\n",
              "      <td>...</td>\n",
              "      <td>...</td>\n",
              "      <td>...</td>\n",
              "    </tr>\n",
              "    <tr>\n",
              "      <th>2495</th>\n",
              "      <td>another great movie by costagavras its a great...</td>\n",
              "      <td>1</td>\n",
              "      <td>0</td>\n",
              "    </tr>\n",
              "    <tr>\n",
              "      <th>2496</th>\n",
              "      <td>though structured totally different from the b...</td>\n",
              "      <td>0</td>\n",
              "      <td>1</td>\n",
              "    </tr>\n",
              "    <tr>\n",
              "      <th>2497</th>\n",
              "      <td>handsome and dashing british airline pilot geo...</td>\n",
              "      <td>0</td>\n",
              "      <td>1</td>\n",
              "    </tr>\n",
              "    <tr>\n",
              "      <th>2498</th>\n",
              "      <td>this film breeches the fine line between satir...</td>\n",
              "      <td>1</td>\n",
              "      <td>0</td>\n",
              "    </tr>\n",
              "    <tr>\n",
              "      <th>2499</th>\n",
              "      <td>mardi gras made in china provides a wonderful ...</td>\n",
              "      <td>0</td>\n",
              "      <td>1</td>\n",
              "    </tr>\n",
              "  </tbody>\n",
              "</table>\n",
              "<p>2500 rows × 3 columns</p>\n",
              "</div>"
            ],
            "text/plain": [
              "                                                 review  negative  positive\n",
              "0     one of the other reviewers has mentioned that ...         0         1\n",
              "1     a wonderful little production the filming tech...         0         1\n",
              "2     i thought this was a wonderful way to spend ti...         0         1\n",
              "3     basically theres a family where a little boy j...         1         0\n",
              "4     petter matteis love in the time of money is a ...         0         1\n",
              "...                                                 ...       ...       ...\n",
              "2495  another great movie by costagavras its a great...         1         0\n",
              "2496  though structured totally different from the b...         0         1\n",
              "2497  handsome and dashing british airline pilot geo...         0         1\n",
              "2498  this film breeches the fine line between satir...         1         0\n",
              "2499  mardi gras made in china provides a wonderful ...         0         1\n",
              "\n",
              "[2500 rows x 3 columns]"
            ]
          },
          "metadata": {
            "tags": []
          },
          "execution_count": 8
        }
      ]
    },
    {
      "cell_type": "code",
      "metadata": {
        "id": "Cw8abNxuoqAw"
      },
      "source": [
        "review = df_new['review'].values\n",
        "sentiment = df_new[['negative', 'positive']].values"
      ],
      "execution_count": 9,
      "outputs": []
    },
    {
      "cell_type": "code",
      "metadata": {
        "id": "LuF9gECjotS2"
      },
      "source": [
        "X_train, X_test, y_train, y_test = train_test_split(review, sentiment, test_size=0.2)"
      ],
      "execution_count": 10,
      "outputs": []
    },
    {
      "cell_type": "code",
      "metadata": {
        "id": "InX5E6F8oxuC"
      },
      "source": [
        "tokenizer = Tokenizer(num_words=5000, oov_token='x')\n",
        "tokenizer.fit_on_texts(X_train) \n",
        "tokenizer.fit_on_texts(X_test)\n",
        " \n",
        "sequence_train = tokenizer.texts_to_sequences(X_train)\n",
        "sequence_test = tokenizer.texts_to_sequences(X_test)\n",
        " \n",
        "padded_train = pad_sequences(sequence_train) \n",
        "padded_test = pad_sequences(sequence_test)"
      ],
      "execution_count": 11,
      "outputs": []
    },
    {
      "cell_type": "code",
      "metadata": {
        "id": "vwWxoando3LV"
      },
      "source": [
        "model = tf.keras.Sequential([\n",
        "    tf.keras.layers.Embedding(input_dim=len(tokenizer.word_index), output_dim=16),\n",
        "    tf.keras.layers.Bidirectional(tf.keras.layers.LSTM(64, dropout=0.5)),\n",
        "    tf.keras.layers.Dense(128, activation='relu'),\n",
        "    tf.keras.layers.Dense(64, activation='relu'),\n",
        "    tf.keras.layers.Dense(2, activation='softmax')\n",
        "])\n",
        "\n",
        "model.compile(loss='categorical_crossentropy',optimizer='rmsprop',metrics=['accuracy'])"
      ],
      "execution_count": 16,
      "outputs": []
    },
    {
      "cell_type": "code",
      "metadata": {
        "colab": {
          "base_uri": "https://localhost:8080/"
        },
        "id": "YLnToETro8Mh",
        "outputId": "489341a2-c7bb-451c-b6b0-dd58b4c203cb"
      },
      "source": [
        "history = model.fit(padded_train, y_train, epochs=15, \n",
        "                    validation_data=(padded_test, y_test), callbacks=[my_callbacks])"
      ],
      "execution_count": 17,
      "outputs": [
        {
          "output_type": "stream",
          "text": [
            "Epoch 1/15\n",
            "63/63 [==============================] - 102s 2s/step - loss: 0.6929 - accuracy: 0.5085 - val_loss: 0.7196 - val_accuracy: 0.5160\n",
            "Epoch 2/15\n",
            "63/63 [==============================] - 96s 2s/step - loss: 0.6880 - accuracy: 0.6275 - val_loss: 0.7974 - val_accuracy: 0.6880\n",
            "Epoch 3/15\n",
            "63/63 [==============================] - 96s 2s/step - loss: 0.5387 - accuracy: 0.7715 - val_loss: 0.5301 - val_accuracy: 0.7360\n",
            "Epoch 4/15\n",
            "63/63 [==============================] - 96s 2s/step - loss: 0.4273 - accuracy: 0.8220 - val_loss: 0.4614 - val_accuracy: 0.7780\n",
            "Epoch 5/15\n",
            "63/63 [==============================] - 96s 2s/step - loss: 0.3228 - accuracy: 0.8710 - val_loss: 0.4800 - val_accuracy: 0.7640\n",
            "Epoch 6/15\n",
            "63/63 [==============================] - 96s 2s/step - loss: 0.2953 - accuracy: 0.8900 - val_loss: 0.5161 - val_accuracy: 0.7820\n",
            "Epoch 7/15\n",
            "63/63 [==============================] - 96s 2s/step - loss: 0.2806 - accuracy: 0.9115 - val_loss: 0.4505 - val_accuracy: 0.8240\n",
            "Epoch 8/15\n",
            "63/63 [==============================] - 96s 2s/step - loss: 0.1770 - accuracy: 0.9350 - val_loss: 0.4549 - val_accuracy: 0.8260\n",
            "Epoch 9/15\n",
            "63/63 [==============================] - 96s 2s/step - loss: 0.1696 - accuracy: 0.9395 - val_loss: 0.4984 - val_accuracy: 0.7900\n",
            "Epoch 10/15\n",
            "63/63 [==============================] - 96s 2s/step - loss: 0.1481 - accuracy: 0.9510 - val_loss: 0.4785 - val_accuracy: 0.8100\n",
            "Epoch 11/15\n",
            "63/63 [==============================] - 96s 2s/step - loss: 0.0993 - accuracy: 0.9640 - val_loss: 0.5902 - val_accuracy: 0.8120\n",
            "Epoch 12/15\n",
            "63/63 [==============================] - 96s 2s/step - loss: 0.1627 - accuracy: 0.9660 - val_loss: 0.6554 - val_accuracy: 0.8060\n",
            "Epoch 13/15\n",
            "63/63 [==============================] - 97s 2s/step - loss: 0.1116 - accuracy: 0.9660 - val_loss: 1.5260 - val_accuracy: 0.7120\n",
            "Epoch 14/15\n",
            "63/63 [==============================] - 96s 2s/step - loss: 0.0775 - accuracy: 0.9750 - val_loss: 0.6473 - val_accuracy: 0.7680\n",
            "Epoch 15/15\n",
            "63/63 [==============================] - 96s 2s/step - loss: 0.0794 - accuracy: 0.9725 - val_loss: 0.6789 - val_accuracy: 0.8040\n"
          ],
          "name": "stdout"
        }
      ]
    },
    {
      "cell_type": "code",
      "metadata": {
        "id": "AyR5mgyso9-E",
        "colab": {
          "base_uri": "https://localhost:8080/",
          "height": 295
        },
        "outputId": "d5723687-e055-4abb-97cd-132958467d2f"
      },
      "source": [
        "plt.plot(history.history['accuracy'])\n",
        "plt.plot(history.history['val_accuracy'])\n",
        "plt.title('Model Accuracy')\n",
        "plt.ylabel('Accuracy')\n",
        "plt.xlabel('epoch')\n",
        "plt.legend(['train', 'test'], loc='upper left')\n",
        "plt.show()"
      ],
      "execution_count": 18,
      "outputs": [
        {
          "output_type": "display_data",
          "data": {
            "image/png": "[encoded data removed]",
            "text/plain": [
              "<Figure size 432x288 with 1 Axes>"
            ]
          },
          "metadata": {
            "tags": [],
            "needs_background": "light"
          }
        }
      ]
    },
    {
      "cell_type": "code",
      "metadata": {
        "id": "keRIG-Eorl-E",
        "colab": {
          "base_uri": "https://localhost:8080/",
          "height": 295
        },
        "outputId": "2100ae54-1169-40cf-b694-e95506f4ddeb"
      },
      "source": [
        "plt.plot(history.history['loss'])\n",
        "plt.plot(history.history['val_loss'])\n",
        "plt.title('Model Loss')\n",
        "plt.ylabel('loss')\n",
        "plt.xlabel('epoch')\n",
        "plt.legend(['train', 'test'], loc='lower left')\n",
        "plt.show()"
      ],
      "execution_count": 19,
      "outputs": [
        {
          "output_type": "display_data",
          "data": {
            "image/png": "[encoded data removed]",
            "text/plain": [
              "<Figure size 432x288 with 1 Axes>"
            ]
          },
          "metadata": {
            "tags": [],
            "needs_background": "light"
          }
        }
      ]
    },
    {
      "cell_type": "code",
      "metadata": {
        "id": "WhICx__1VcIu"
      },
      "source": [
        ""
      ],
      "execution_count": 15,
      "outputs": []
    }
  ]
}