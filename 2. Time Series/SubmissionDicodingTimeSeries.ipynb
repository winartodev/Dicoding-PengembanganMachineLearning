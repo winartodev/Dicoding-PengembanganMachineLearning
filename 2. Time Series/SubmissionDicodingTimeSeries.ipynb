{
  "nbformat": 4,
  "nbformat_minor": 0,
  "metadata": {
    "colab": {
      "name": "SubmissionDicodingTimeSeries.ipynb",
      "provenance": [],
      "collapsed_sections": []
    },
    "kernelspec": {
      "name": "python3",
      "display_name": "Python 3"
    },
    "language_info": {
      "name": "python"
    }
  },
  "cells": [
    {
      "cell_type": "code",
      "metadata": {
        "id": "bbPz8YumcIV1"
      },
      "source": [
        "import pandas as pd \n",
        "import pandas_datareader as web\n",
        "import numpy as np\n",
        "import math\n",
        "import matplotlib.pyplot as plt\n",
        "from sklearn.model_selection import train_test_split\n",
        "from sklearn.preprocessing import MinMaxScaler\n",
        "\n",
        "import tensorflow as tf\n",
        "\n",
        "%matplotlib inline\n",
        "plt.style.use('seaborn')"
      ],
      "execution_count": 18,
      "outputs": []
    },
    {
      "cell_type": "code",
      "metadata": {
        "colab": {
          "base_uri": "https://localhost:8080/",
          "height": 236
        },
        "id": "UmDmYZcuKSH8",
        "outputId": "f8d64f7a-f11d-4366-c7fc-a23cb3291970"
      },
      "source": [
        "df = web.DataReader('BBRI.JK',data_source='yahoo', start='2012-01-01', end='2021-02-17')\n",
        "\n",
        "df.head()"
      ],
      "execution_count": 19,
      "outputs": [
        {
          "output_type": "execute_result",
          "data": {
            "text/html": [
              "<div>\n",
              "<style scoped>\n",
              "    .dataframe tbody tr th:only-of-type {\n",
              "        vertical-align: middle;\n",
              "    }\n",
              "\n",
              "    .dataframe tbody tr th {\n",
              "        vertical-align: top;\n",
              "    }\n",
              "\n",
              "    .dataframe thead th {\n",
              "        text-align: right;\n",
              "    }\n",
              "</style>\n",
              "<table border=\"1\" class=\"dataframe\">\n",
              "  <thead>\n",
              "    <tr style=\"text-align: right;\">\n",
              "      <th></th>\n",
              "      <th>High</th>\n",
              "      <th>Low</th>\n",
              "      <th>Open</th>\n",
              "      <th>Close</th>\n",
              "      <th>Volume</th>\n",
              "      <th>Adj Close</th>\n",
              "    </tr>\n",
              "    <tr>\n",
              "      <th>Date</th>\n",
              "      <th></th>\n",
              "      <th></th>\n",
              "      <th></th>\n",
              "      <th></th>\n",
              "      <th></th>\n",
              "      <th></th>\n",
              "    </tr>\n",
              "  </thead>\n",
              "  <tbody>\n",
              "    <tr>\n",
              "      <th>2012-01-02</th>\n",
              "      <td>1370.0</td>\n",
              "      <td>1350.0</td>\n",
              "      <td>1360.0</td>\n",
              "      <td>1360.0</td>\n",
              "      <td>15835000.0</td>\n",
              "      <td>1026.955078</td>\n",
              "    </tr>\n",
              "    <tr>\n",
              "      <th>2012-01-03</th>\n",
              "      <td>1390.0</td>\n",
              "      <td>1360.0</td>\n",
              "      <td>1380.0</td>\n",
              "      <td>1380.0</td>\n",
              "      <td>81980000.0</td>\n",
              "      <td>1042.057495</td>\n",
              "    </tr>\n",
              "    <tr>\n",
              "      <th>2012-01-04</th>\n",
              "      <td>1390.0</td>\n",
              "      <td>1370.0</td>\n",
              "      <td>1390.0</td>\n",
              "      <td>1390.0</td>\n",
              "      <td>151180000.0</td>\n",
              "      <td>1049.608521</td>\n",
              "    </tr>\n",
              "    <tr>\n",
              "      <th>2012-01-05</th>\n",
              "      <td>1400.0</td>\n",
              "      <td>1370.0</td>\n",
              "      <td>1390.0</td>\n",
              "      <td>1390.0</td>\n",
              "      <td>134337500.0</td>\n",
              "      <td>1049.608521</td>\n",
              "    </tr>\n",
              "    <tr>\n",
              "      <th>2012-01-06</th>\n",
              "      <td>1400.0</td>\n",
              "      <td>1370.0</td>\n",
              "      <td>1380.0</td>\n",
              "      <td>1380.0</td>\n",
              "      <td>105145000.0</td>\n",
              "      <td>1042.057495</td>\n",
              "    </tr>\n",
              "  </tbody>\n",
              "</table>\n",
              "</div>"
            ],
            "text/plain": [
              "              High     Low    Open   Close       Volume    Adj Close\n",
              "Date                                                                \n",
              "2012-01-02  1370.0  1350.0  1360.0  1360.0   15835000.0  1026.955078\n",
              "2012-01-03  1390.0  1360.0  1380.0  1380.0   81980000.0  1042.057495\n",
              "2012-01-04  1390.0  1370.0  1390.0  1390.0  151180000.0  1049.608521\n",
              "2012-01-05  1400.0  1370.0  1390.0  1390.0  134337500.0  1049.608521\n",
              "2012-01-06  1400.0  1370.0  1380.0  1380.0  105145000.0  1042.057495"
            ]
          },
          "metadata": {
            "tags": []
          },
          "execution_count": 19
        }
      ]
    },
    {
      "cell_type": "code",
      "metadata": {
        "colab": {
          "base_uri": "https://localhost:8080/"
        },
        "id": "QHHB4I13OiRG",
        "outputId": "6b6d7285-558e-4d73-aefa-768d04d6870f"
      },
      "source": [
        "print(df.shape)"
      ],
      "execution_count": 20,
      "outputs": [
        {
          "output_type": "stream",
          "text": [
            "(2272, 6)\n"
          ],
          "name": "stdout"
        }
      ]
    },
    {
      "cell_type": "code",
      "metadata": {
        "colab": {
          "base_uri": "https://localhost:8080/"
        },
        "id": "rjAZ3YG_OuvH",
        "outputId": "d568d38c-4538-498c-a38c-ce879c9632d8"
      },
      "source": [
        "df.info()"
      ],
      "execution_count": 21,
      "outputs": [
        {
          "output_type": "stream",
          "text": [
            "<class 'pandas.core.frame.DataFrame'>\n",
            "DatetimeIndex: 2272 entries, 2012-01-02 to 2021-02-18\n",
            "Data columns (total 6 columns):\n",
            " #   Column     Non-Null Count  Dtype  \n",
            "---  ------     --------------  -----  \n",
            " 0   High       2272 non-null   float64\n",
            " 1   Low        2272 non-null   float64\n",
            " 2   Open       2272 non-null   float64\n",
            " 3   Close      2272 non-null   float64\n",
            " 4   Volume     2272 non-null   float64\n",
            " 5   Adj Close  2272 non-null   float64\n",
            "dtypes: float64(6)\n",
            "memory usage: 124.2 KB\n"
          ],
          "name": "stdout"
        }
      ]
    },
    {
      "cell_type": "code",
      "metadata": {
        "colab": {
          "base_uri": "https://localhost:8080/",
          "height": 630
        },
        "id": "QFiyuBFTKjeB",
        "outputId": "d6f39ef8-9aa0-402a-943d-38f5fc5a7bf5"
      },
      "source": [
        "plt.figure(figsize=(20, 10))\n",
        "plt.plot(df['Close'])\n",
        "plt.title('Close Price History in BBRI', fontsize=20)\n",
        "plt.xlabel('Date', fontsize=14)\n",
        "plt.ylabel('Stock Price in (Rp)', fontsize=14)\n",
        "plt.show()"
      ],
      "execution_count": 22,
      "outputs": [
        {
          "output_type": "display_data",
          "data": {
            "image/png": "[encoded data removed]",
            "text/plain": [
              "<Figure size 1440x720 with 1 Axes>"
            ]
          },
          "metadata": {
            "tags": []
          }
        }
      ]
    },
    {
      "cell_type": "code",
      "metadata": {
        "id": "ye3lXHU8NnF3",
        "colab": {
          "base_uri": "https://localhost:8080/",
          "height": 236
        },
        "outputId": "9cc47714-c18f-42c6-ce47-78369f079f91"
      },
      "source": [
        "df.head()"
      ],
      "execution_count": 23,
      "outputs": [
        {
          "output_type": "execute_result",
          "data": {
            "text/html": [
              "<div>\n",
              "<style scoped>\n",
              "    .dataframe tbody tr th:only-of-type {\n",
              "        vertical-align: middle;\n",
              "    }\n",
              "\n",
              "    .dataframe tbody tr th {\n",
              "        vertical-align: top;\n",
              "    }\n",
              "\n",
              "    .dataframe thead th {\n",
              "        text-align: right;\n",
              "    }\n",
              "</style>\n",
              "<table border=\"1\" class=\"dataframe\">\n",
              "  <thead>\n",
              "    <tr style=\"text-align: right;\">\n",
              "      <th></th>\n",
              "      <th>High</th>\n",
              "      <th>Low</th>\n",
              "      <th>Open</th>\n",
              "      <th>Close</th>\n",
              "      <th>Volume</th>\n",
              "      <th>Adj Close</th>\n",
              "    </tr>\n",
              "    <tr>\n",
              "      <th>Date</th>\n",
              "      <th></th>\n",
              "      <th></th>\n",
              "      <th></th>\n",
              "      <th></th>\n",
              "      <th></th>\n",
              "      <th></th>\n",
              "    </tr>\n",
              "  </thead>\n",
              "  <tbody>\n",
              "    <tr>\n",
              "      <th>2012-01-02</th>\n",
              "      <td>1370.0</td>\n",
              "      <td>1350.0</td>\n",
              "      <td>1360.0</td>\n",
              "      <td>1360.0</td>\n",
              "      <td>15835000.0</td>\n",
              "      <td>1026.955078</td>\n",
              "    </tr>\n",
              "    <tr>\n",
              "      <th>2012-01-03</th>\n",
              "      <td>1390.0</td>\n",
              "      <td>1360.0</td>\n",
              "      <td>1380.0</td>\n",
              "      <td>1380.0</td>\n",
              "      <td>81980000.0</td>\n",
              "      <td>1042.057495</td>\n",
              "    </tr>\n",
              "    <tr>\n",
              "      <th>2012-01-04</th>\n",
              "      <td>1390.0</td>\n",
              "      <td>1370.0</td>\n",
              "      <td>1390.0</td>\n",
              "      <td>1390.0</td>\n",
              "      <td>151180000.0</td>\n",
              "      <td>1049.608521</td>\n",
              "    </tr>\n",
              "    <tr>\n",
              "      <th>2012-01-05</th>\n",
              "      <td>1400.0</td>\n",
              "      <td>1370.0</td>\n",
              "      <td>1390.0</td>\n",
              "      <td>1390.0</td>\n",
              "      <td>134337500.0</td>\n",
              "      <td>1049.608521</td>\n",
              "    </tr>\n",
              "    <tr>\n",
              "      <th>2012-01-06</th>\n",
              "      <td>1400.0</td>\n",
              "      <td>1370.0</td>\n",
              "      <td>1380.0</td>\n",
              "      <td>1380.0</td>\n",
              "      <td>105145000.0</td>\n",
              "      <td>1042.057495</td>\n",
              "    </tr>\n",
              "  </tbody>\n",
              "</table>\n",
              "</div>"
            ],
            "text/plain": [
              "              High     Low    Open   Close       Volume    Adj Close\n",
              "Date                                                                \n",
              "2012-01-02  1370.0  1350.0  1360.0  1360.0   15835000.0  1026.955078\n",
              "2012-01-03  1390.0  1360.0  1380.0  1380.0   81980000.0  1042.057495\n",
              "2012-01-04  1390.0  1370.0  1390.0  1390.0  151180000.0  1049.608521\n",
              "2012-01-05  1400.0  1370.0  1390.0  1390.0  134337500.0  1049.608521\n",
              "2012-01-06  1400.0  1370.0  1380.0  1380.0  105145000.0  1042.057495"
            ]
          },
          "metadata": {
            "tags": []
          },
          "execution_count": 23
        }
      ]
    },
    {
      "cell_type": "code",
      "metadata": {
        "colab": {
          "base_uri": "https://localhost:8080/"
        },
        "id": "6FZZnIP4cJC3",
        "outputId": "504497cc-8ae9-443b-ccad-02672801a575"
      },
      "source": [
        "df_close = df.filter(['Close'])\n",
        "df_close_values = df_close.values\n",
        "df_close_values"
      ],
      "execution_count": 24,
      "outputs": [
        {
          "output_type": "execute_result",
          "data": {
            "text/plain": [
              "array([[1360.],\n",
              "       [1380.],\n",
              "       [1390.],\n",
              "       ...,\n",
              "       [4670.],\n",
              "       [4630.],\n",
              "       [4670.]])"
            ]
          },
          "metadata": {
            "tags": []
          },
          "execution_count": 24
        }
      ]
    },
    {
      "cell_type": "code",
      "metadata": {
        "id": "Q5EfCrIqrsuX"
      },
      "source": [
        "scaler = MinMaxScaler(feature_range=(0,1))\n",
        "scaled_data = scaler.fit_transform(df_close_values)\n",
        "scaled_data = scaled_data.flatten()"
      ],
      "execution_count": 25,
      "outputs": []
    },
    {
      "cell_type": "code",
      "metadata": {
        "id": "qn1qAiPEdmC8"
      },
      "source": [
        "X_train, X_test = train_test_split(scaled_data, test_size=0.2)"
      ],
      "execution_count": 26,
      "outputs": []
    },
    {
      "cell_type": "code",
      "metadata": {
        "colab": {
          "base_uri": "https://localhost:8080/"
        },
        "id": "ojQe8ITJoKxI",
        "outputId": "6e0bcf2d-aa5e-4c73-abc5-0f00d149af76"
      },
      "source": [
        "X_train"
      ],
      "execution_count": 27,
      "outputs": [
        {
          "output_type": "execute_result",
          "data": {
            "text/plain": [
              "array([0.27864583, 0.88541667, 0.3984375 , ..., 0.74479167, 0.28515625,\n",
              "       0.82552083])"
            ]
          },
          "metadata": {
            "tags": []
          },
          "execution_count": 27
        }
      ]
    },
    {
      "cell_type": "code",
      "metadata": {
        "id": "ta6B9WLDiIq7"
      },
      "source": [
        "def windowed_dataset(series, window_size, batch_size, shuffle_buffer):\n",
        "  series = tf.expand_dims(series, axis=1)\n",
        "  ds = tf.data.Dataset.from_tensor_slices(series)\n",
        "  ds = ds.window(window_size + 1, shift=1, drop_remainder=True)\n",
        "  ds = ds.flat_map(lambda w: w.batch(window_size + 1))\n",
        "  ds = ds.shuffle(shuffle_buffer)\n",
        "  ds = ds.map(lambda w: (w[:-1], w[-1:]))\n",
        "  return ds.batch(batch_size).prefetch(1)"
      ],
      "execution_count": 28,
      "outputs": []
    },
    {
      "cell_type": "code",
      "metadata": {
        "id": "r2BEIYyFlkaD"
      },
      "source": [
        "train_set = windowed_dataset(X_train, window_size=60, batch_size=100, shuffle_buffer=1000)"
      ],
      "execution_count": 29,
      "outputs": []
    },
    {
      "cell_type": "code",
      "metadata": {
        "id": "r0eHqZjgisfF"
      },
      "source": [
        "model = tf.keras.models.Sequential([tf.keras.layers.LSTM(60, return_sequences=True),\n",
        "                                    tf.keras.layers.LSTM(60),\n",
        "                                    tf.keras.layers.Dense(30, activation='relu'),\n",
        "                                    tf.keras.layers.Dense(10, activation='relu'),\n",
        "                                    tf.keras.layers.Dense(1)])"
      ],
      "execution_count": 30,
      "outputs": []
    },
    {
      "cell_type": "code",
      "metadata": {
        "colab": {
          "base_uri": "https://localhost:8080/"
        },
        "id": "NGa0OqoajG_S",
        "outputId": "757f04eb-5433-469a-a9c4-ad04850ef058"
      },
      "source": [
        "optimizer = tf.keras.optimizers.SGD(learning_rate=1.0000e-04, momentum=0.9)\n",
        "model.compile(optimizer=optimizer,\n",
        "              loss=tf.keras.losses.Huber(),\n",
        "              metrics=['mae'])\n",
        "history = model.fit(train_set, epochs=50, verbose=1)"
      ],
      "execution_count": 31,
      "outputs": [
        {
          "output_type": "stream",
          "text": [
            "Epoch 1/50\n",
            "18/18 [==============================] - 5s 91ms/step - loss: 0.1044 - mae: 0.3838\n",
            "Epoch 2/50\n",
            "18/18 [==============================] - 2s 90ms/step - loss: 0.0962 - mae: 0.3619\n",
            "Epoch 3/50\n",
            "18/18 [==============================] - 2s 89ms/step - loss: 0.0874 - mae: 0.3382\n",
            "Epoch 4/50\n",
            "18/18 [==============================] - 2s 91ms/step - loss: 0.0797 - mae: 0.3175\n",
            "Epoch 5/50\n",
            "18/18 [==============================] - 2s 90ms/step - loss: 0.0729 - mae: 0.3008\n",
            "Epoch 6/50\n",
            "18/18 [==============================] - 2s 93ms/step - loss: 0.0671 - mae: 0.2866\n",
            "Epoch 7/50\n",
            "18/18 [==============================] - 2s 90ms/step - loss: 0.0621 - mae: 0.2746\n",
            "Epoch 8/50\n",
            "18/18 [==============================] - 2s 91ms/step - loss: 0.0578 - mae: 0.2640\n",
            "Epoch 9/50\n",
            "18/18 [==============================] - 2s 93ms/step - loss: 0.0541 - mae: 0.2547\n",
            "Epoch 10/50\n",
            "18/18 [==============================] - 2s 91ms/step - loss: 0.0509 - mae: 0.2467\n",
            "Epoch 11/50\n",
            "18/18 [==============================] - 2s 93ms/step - loss: 0.0482 - mae: 0.2393\n",
            "Epoch 12/50\n",
            "18/18 [==============================] - 2s 90ms/step - loss: 0.0458 - mae: 0.2331\n",
            "Epoch 13/50\n",
            "18/18 [==============================] - 2s 90ms/step - loss: 0.0437 - mae: 0.2274\n",
            "Epoch 14/50\n",
            "18/18 [==============================] - 2s 95ms/step - loss: 0.0420 - mae: 0.2228\n",
            "Epoch 15/50\n",
            "18/18 [==============================] - 2s 92ms/step - loss: 0.0404 - mae: 0.2189\n",
            "Epoch 16/50\n",
            "18/18 [==============================] - 2s 90ms/step - loss: 0.0391 - mae: 0.2158\n",
            "Epoch 17/50\n",
            "18/18 [==============================] - 2s 90ms/step - loss: 0.0379 - mae: 0.2134\n",
            "Epoch 18/50\n",
            "18/18 [==============================] - 2s 90ms/step - loss: 0.0369 - mae: 0.2113\n",
            "Epoch 19/50\n",
            "18/18 [==============================] - 2s 90ms/step - loss: 0.0361 - mae: 0.2098\n",
            "Epoch 20/50\n",
            "18/18 [==============================] - 2s 92ms/step - loss: 0.0353 - mae: 0.2087\n",
            "Epoch 21/50\n",
            "18/18 [==============================] - 2s 90ms/step - loss: 0.0347 - mae: 0.2078\n",
            "Epoch 22/50\n",
            "18/18 [==============================] - 2s 89ms/step - loss: 0.0341 - mae: 0.2071\n",
            "Epoch 23/50\n",
            "18/18 [==============================] - 2s 89ms/step - loss: 0.0337 - mae: 0.2069\n",
            "Epoch 24/50\n",
            "18/18 [==============================] - 2s 91ms/step - loss: 0.0332 - mae: 0.2067\n",
            "Epoch 25/50\n",
            "18/18 [==============================] - 2s 92ms/step - loss: 0.0329 - mae: 0.2068\n",
            "Epoch 26/50\n",
            "18/18 [==============================] - 2s 90ms/step - loss: 0.0326 - mae: 0.2068\n",
            "Epoch 27/50\n",
            "18/18 [==============================] - 2s 91ms/step - loss: 0.0324 - mae: 0.2070\n",
            "Epoch 28/50\n",
            "18/18 [==============================] - 2s 93ms/step - loss: 0.0321 - mae: 0.2072\n",
            "Epoch 29/50\n",
            "18/18 [==============================] - 2s 91ms/step - loss: 0.0320 - mae: 0.2074\n",
            "Epoch 30/50\n",
            "18/18 [==============================] - 2s 91ms/step - loss: 0.0318 - mae: 0.2077\n",
            "Epoch 31/50\n",
            "18/18 [==============================] - 2s 91ms/step - loss: 0.0317 - mae: 0.2080\n",
            "Epoch 32/50\n",
            "18/18 [==============================] - 2s 90ms/step - loss: 0.0315 - mae: 0.2082\n",
            "Epoch 33/50\n",
            "18/18 [==============================] - 2s 91ms/step - loss: 0.0314 - mae: 0.2084\n",
            "Epoch 34/50\n",
            "18/18 [==============================] - 2s 93ms/step - loss: 0.0314 - mae: 0.2087\n",
            "Epoch 35/50\n",
            "18/18 [==============================] - 2s 93ms/step - loss: 0.0313 - mae: 0.2089\n",
            "Epoch 36/50\n",
            "18/18 [==============================] - 2s 93ms/step - loss: 0.0312 - mae: 0.2091\n",
            "Epoch 37/50\n",
            "18/18 [==============================] - 2s 90ms/step - loss: 0.0312 - mae: 0.2093\n",
            "Epoch 38/50\n",
            "18/18 [==============================] - 2s 93ms/step - loss: 0.0311 - mae: 0.2095\n",
            "Epoch 39/50\n",
            "18/18 [==============================] - 2s 93ms/step - loss: 0.0311 - mae: 0.2097\n",
            "Epoch 40/50\n",
            "18/18 [==============================] - 2s 94ms/step - loss: 0.0310 - mae: 0.2098\n",
            "Epoch 41/50\n",
            "18/18 [==============================] - 2s 91ms/step - loss: 0.0310 - mae: 0.2100\n",
            "Epoch 42/50\n",
            "18/18 [==============================] - 2s 90ms/step - loss: 0.0310 - mae: 0.2101\n",
            "Epoch 43/50\n",
            "18/18 [==============================] - 2s 91ms/step - loss: 0.0310 - mae: 0.2103\n",
            "Epoch 44/50\n",
            "18/18 [==============================] - 2s 91ms/step - loss: 0.0309 - mae: 0.2104\n",
            "Epoch 45/50\n",
            "18/18 [==============================] - 2s 91ms/step - loss: 0.0309 - mae: 0.2106\n",
            "Epoch 46/50\n",
            "18/18 [==============================] - 2s 92ms/step - loss: 0.0309 - mae: 0.2107\n",
            "Epoch 47/50\n",
            "18/18 [==============================] - 2s 89ms/step - loss: 0.0309 - mae: 0.2108\n",
            "Epoch 48/50\n",
            "18/18 [==============================] - 2s 90ms/step - loss: 0.0309 - mae: 0.2109\n",
            "Epoch 49/50\n",
            "18/18 [==============================] - 2s 93ms/step - loss: 0.0309 - mae: 0.2110\n",
            "Epoch 50/50\n",
            "18/18 [==============================] - 2s 89ms/step - loss: 0.0309 - mae: 0.2111\n"
          ],
          "name": "stdout"
        }
      ]
    },
    {
      "cell_type": "code",
      "metadata": {
        "id": "P_LErq1HuNnh"
      },
      "source": [
        ""
      ],
      "execution_count": 31,
      "outputs": []
    }
  ]
}